{
 "cells": [
  {
   "cell_type": "code",
   "execution_count": 15,
   "id": "9a0c7dac",
   "metadata": {},
   "outputs": [
    {
     "name": "stderr",
     "output_type": "stream",
     "text": [
      "[nltk_data] Downloading package punkt to C:\\Users\\Mir\n",
      "[nltk_data]     Info\\AppData\\Roaming\\nltk_data...\n",
      "[nltk_data]   Package punkt is already up-to-date!\n"
     ]
    }
   ],
   "source": [
    "import numpy as np\n",
    "import pandas as pd\n",
    "import nltk \n",
    "nltk.download('punkt')\n",
    "import re"
   ]
  },
  {
   "cell_type": "code",
   "execution_count": 17,
   "id": "7804a171",
   "metadata": {},
   "outputs": [],
   "source": [
    "df= pd.read_csv(\"tennis_articles.csv\")"
   ]
  },
  {
   "cell_type": "code",
   "execution_count": null,
   "id": "76cce2e1",
   "metadata": {},
   "outputs": [],
   "source": [
    "from IPython.display import Markdown\n",
    "    display(Markdown(document))"
   ]
  },
  {
   "cell_type": "code",
   "execution_count": 18,
   "id": "968fab43",
   "metadata": {},
   "outputs": [
    {
     "data": {
      "text/html": [
       "<div>\n",
       "<style scoped>\n",
       "    .dataframe tbody tr th:only-of-type {\n",
       "        vertical-align: middle;\n",
       "    }\n",
       "\n",
       "    .dataframe tbody tr th {\n",
       "        vertical-align: top;\n",
       "    }\n",
       "\n",
       "    .dataframe thead th {\n",
       "        text-align: right;\n",
       "    }\n",
       "</style>\n",
       "<table border=\"1\" class=\"dataframe\">\n",
       "  <thead>\n",
       "    <tr style=\"text-align: right;\">\n",
       "      <th></th>\n",
       "      <th>article_id</th>\n",
       "      <th>article_title</th>\n",
       "      <th>article_text</th>\n",
       "      <th>source</th>\n",
       "    </tr>\n",
       "  </thead>\n",
       "  <tbody>\n",
       "    <tr>\n",
       "      <th>0</th>\n",
       "      <td>1</td>\n",
       "      <td>I do not have friends in tennis, says Maria Sh...</td>\n",
       "      <td>Maria Sharapova has basically no friends as te...</td>\n",
       "      <td>https://www.tennisworldusa.org/tennis/news/Mar...</td>\n",
       "    </tr>\n",
       "    <tr>\n",
       "      <th>1</th>\n",
       "      <td>2</td>\n",
       "      <td>Federer defeats Medvedev to advance to 14th Sw...</td>\n",
       "      <td>BASEL, Switzerland (AP) — Roger Federer advanc...</td>\n",
       "      <td>http://www.tennis.com/pro-game/2018/10/copil-s...</td>\n",
       "    </tr>\n",
       "    <tr>\n",
       "      <th>2</th>\n",
       "      <td>3</td>\n",
       "      <td>Tennis: Roger Federer ignored deadline set by ...</td>\n",
       "      <td>Roger Federer has revealed that organisers of ...</td>\n",
       "      <td>https://scroll.in/field/899938/tennis-roger-fe...</td>\n",
       "    </tr>\n",
       "    <tr>\n",
       "      <th>3</th>\n",
       "      <td>4</td>\n",
       "      <td>Nishikori to face off against Anderson in Vien...</td>\n",
       "      <td>Kei Nishikori will try to end his long losing ...</td>\n",
       "      <td>http://www.tennis.com/pro-game/2018/10/nishiko...</td>\n",
       "    </tr>\n",
       "    <tr>\n",
       "      <th>4</th>\n",
       "      <td>5</td>\n",
       "      <td>Roger Federer has made this huge change to ten...</td>\n",
       "      <td>Federer, 37, first broke through on tour over ...</td>\n",
       "      <td>https://www.express.co.uk/sport/tennis/1036101...</td>\n",
       "    </tr>\n",
       "  </tbody>\n",
       "</table>\n",
       "</div>"
      ],
      "text/plain": [
       "   article_id                                      article_title  \\\n",
       "0           1  I do not have friends in tennis, says Maria Sh...   \n",
       "1           2  Federer defeats Medvedev to advance to 14th Sw...   \n",
       "2           3  Tennis: Roger Federer ignored deadline set by ...   \n",
       "3           4  Nishikori to face off against Anderson in Vien...   \n",
       "4           5  Roger Federer has made this huge change to ten...   \n",
       "\n",
       "                                        article_text  \\\n",
       "0  Maria Sharapova has basically no friends as te...   \n",
       "1  BASEL, Switzerland (AP) — Roger Federer advanc...   \n",
       "2  Roger Federer has revealed that organisers of ...   \n",
       "3  Kei Nishikori will try to end his long losing ...   \n",
       "4  Federer, 37, first broke through on tour over ...   \n",
       "\n",
       "                                              source  \n",
       "0  https://www.tennisworldusa.org/tennis/news/Mar...  \n",
       "1  http://www.tennis.com/pro-game/2018/10/copil-s...  \n",
       "2  https://scroll.in/field/899938/tennis-roger-fe...  \n",
       "3  http://www.tennis.com/pro-game/2018/10/nishiko...  \n",
       "4  https://www.express.co.uk/sport/tennis/1036101...  "
      ]
     },
     "execution_count": 18,
     "metadata": {},
     "output_type": "execute_result"
    }
   ],
   "source": [
    "#inspect the data\n",
    "df.head()"
   ]
  },
  {
   "cell_type": "code",
   "execution_count": 19,
   "id": "6aa91941",
   "metadata": {
    "scrolled": true
   },
   "outputs": [
    {
     "data": {
      "text/plain": [
       "\"Maria Sharapova has basically no friends as tennis players on the WTA Tour. The Russian player has no problems in openly speaking about it and in a recent interview she said: 'I don't really hide any feelings too much. I think everyone knows this is my job here. When I'm on the courts or when I'm on the court playing, I'm a competitor and I want to beat every single person whether they're in the locker room or across the net. So I'm not the one to strike up a conversation about the weather and know that in the next few minutes I have to go and try to win a tennis match. I'm a pretty competitive girl. I say my hellos, but I'm not sending any players flowers as well. Uhm, I'm not really friendly or close to many players. I have not a lot of friends away from the courts.' When she said she is not really close to a lot of players, is that something strategic that she is doing? Is it different on the men's tour than the women's tour? 'No, not at all. I think just because you're in the same sport doesn't mean that you have to be friends with everyone just because you're categorized, you're a tennis player, so you're going to get along with tennis players. I think every person has different interests. I have friends that have completely different jobs and interests, and I've met them in very different parts of my life. I think everyone just thinks because we're tennis players we should be the greatest of friends. But ultimately tennis is just a very small part of what we do. There are so many other things that we're interested in, that we do.' ALSO READ: Maria Sharapova reveals how tennis keeps her motivated.\""
      ]
     },
     "execution_count": 19,
     "metadata": {},
     "output_type": "execute_result"
    }
   ],
   "source": [
    "df['article_text'][0]"
   ]
  },
  {
   "cell_type": "code",
   "execution_count": 5,
   "id": "b558d807",
   "metadata": {},
   "outputs": [
    {
     "data": {
      "text/plain": [
       "400000"
      ]
     },
     "execution_count": 5,
     "metadata": {},
     "output_type": "execute_result"
    }
   ],
   "source": [
    "#extract word vectors \n",
    "word_embeddings = {}\n",
    "f = open('glove.6B.100d.txt', encoding = 'utf-8')\n",
    "for line in f:\n",
    "    values = line.split()\n",
    "    word = values[0]\n",
    "    coefs = np.asarray(values[1:], dtype = 'float32')\n",
    "    word_embeddings[word]=coefs\n",
    "f.close()\n",
    "len(word_embeddings)"
   ]
  },
  {
   "cell_type": "code",
   "execution_count": 6,
   "id": "4918cd2a",
   "metadata": {},
   "outputs": [
    {
     "name": "stderr",
     "output_type": "stream",
     "text": [
      "C:\\Users\\Mir Info\\AppData\\Local\\Temp\\ipykernel_14404\\1179268065.py:4: FutureWarning: The default value of regex will change from True to False in a future version.\n",
      "  clean_sentences = pd.Series(sentences).str.replace(\"[^a-zA-Z]\", \" \")\n"
     ]
    }
   ],
   "source": [
    "#do some text cleaning \n",
    "sentences = df['article_text']\n",
    "#remove the punctuations, numbers and special characters \n",
    "clean_sentences = pd.Series(sentences).str.replace(\"[^a-zA-Z]\", \" \")"
   ]
  },
  {
   "cell_type": "code",
   "execution_count": 7,
   "id": "feae7687",
   "metadata": {},
   "outputs": [],
   "source": [
    "#make alphabets lowercase\n",
    "clean_sentences = [s.lower() for s in clean_sentences]"
   ]
  },
  {
   "cell_type": "code",
   "execution_count": 8,
   "id": "4babafd7",
   "metadata": {},
   "outputs": [
    {
     "name": "stderr",
     "output_type": "stream",
     "text": [
      "[nltk_data] Downloading package stopwords to C:\\Users\\Mir\n",
      "[nltk_data]     Info\\AppData\\Roaming\\nltk_data...\n",
      "[nltk_data]   Package stopwords is already up-to-date!\n"
     ]
    },
    {
     "data": {
      "text/plain": [
       "True"
      ]
     },
     "execution_count": 8,
     "metadata": {},
     "output_type": "execute_result"
    }
   ],
   "source": [
    "#download stopwords from nltk package  \n",
    "nltk.download('stopwords')"
   ]
  },
  {
   "cell_type": "code",
   "execution_count": 9,
   "id": "ef34caf6",
   "metadata": {},
   "outputs": [],
   "source": [
    "#import the stopwords \n",
    "from nltk.corpus import stopwords \n",
    "stop_words = stopwords.words('english')"
   ]
  },
  {
   "cell_type": "code",
   "execution_count": 10,
   "id": "74077a0b",
   "metadata": {},
   "outputs": [],
   "source": [
    "#function to remove stopwords \n",
    "def remove_stopwords(sen):\n",
    "    sen_new = \" \". join([i for i in sen if i not in stop_words])\n",
    "    return sen_new"
   ]
  },
  {
   "cell_type": "code",
   "execution_count": 11,
   "id": "3566708c",
   "metadata": {},
   "outputs": [],
   "source": [
    "#use the function to remove stopwords from sentences \n",
    "clean_sentences = [remove_stopwords(r.split()) for r in clean_sentences]"
   ]
  },
  {
   "cell_type": "code",
   "execution_count": 12,
   "id": "e19d9e54",
   "metadata": {},
   "outputs": [
    {
     "data": {
      "text/plain": [
       "['maria sharapova basically friends tennis players wta tour russian player problems openly speaking recent interview said really hide feelings much think everyone knows job courts court playing competitor want beat every single person whether locker room across net one strike conversation weather know next minutes go try win tennis match pretty competitive girl say hellos sending players flowers well uhm really friendly close many players lot friends away courts said really close lot players something strategic different men tour women tour think sport mean friends everyone categorized tennis player going get along tennis players think every person different interests friends completely different jobs interests met different parts life think everyone thinks tennis players greatest friends ultimately tennis small part many things interested also read maria sharapova reveals tennis keeps motivated',\n",
       " 'basel switzerland ap roger federer advanced th swiss indoors final career beating seventh seeded daniil medvedev saturday seeking ninth title hometown event th overall federer play th ranked marius copil sunday federer dominated th ranked medvedev first match point chance break serve dropped serve love let another match point slip medvedev next service game netting backhand clinched fourth chance medvedev netted baseline copil upset expectations federer final alexander zverev win fifth ranked german earlier semifinal romanian aims first title arriving basel without career win top opponent copil two also beating marin cilic second round copil fired aces past zverev never dropped serve clinching hours forehand volley winner break zverev second time semifinal came two rounds qualifying last weekend reach basel main draw including beating zverev older brother mischa federer easier time previous match medvedev three setter shanghai two weeks ago',\n",
       " 'roger federer revealed organisers launched condensed davis cup gave three days decide would commit controversial competition speaking swiss indoors tournament play sunday final romanian qualifier marius copil world number three said given impossibly short time frame make decision opted commitment left three days decide federer said time consult people consult could make decision time told wanted time grand slam champion voiced doubts wisdom one week format introduced organisers kosmos promised international tennis federation billion prize money next quarter century competition set feature countries november finals madrid next year replace classic home away ties played four times per year decades kosmos headed barcelona footballer gerard pique hoping fellow spaniard rafael nadal play upcoming event novak djokovic said give precedence atp intended launch defunct world team cup january various australian venues major players feel big event late november combined one january australian open mean much tennis little rest federer said earlier month shanghai chances playing davis cup non existent highly doubt course see happens said think designed anyhow designed future generation players argentina britain received wild cards new look event compete along four semi finalists teams win qualifying rounds next february like kind pressure federer said deadline kosmos handed',\n",
       " 'kei nishikori try end long losing streak atp finals kevin anderson go second title year erste bank open sunday fifth seeded nishikori reached third final beating mikhail kukushkin kazakhstan semifinals winner atp events nishikori triumphed since winning memphis february lost eight straight finals since second seeded anderson defeated fernando verdasco anderson shot fifth career title second year winning new york february nishikori leads anderson career matchups south african previous meeting year victory sunday anderson qualify atp finals currently ninth place nishikori win could move within points cut eight man event london next month nishikori held serve throughout kukushkin came qualifying used first break point close first set going second wrapping win first match point verdasco anderson hit nine aces opening set spaniard broke anderson twice second get another chance south african serve final set',\n",
       " 'federer first broke tour two decades ago since gone enjoy glittering career time grand slam winner chasing th atp title swiss indoors week faces jan lennard struff second round thursday pm bst davenport enjoyed success late third final major tournament win came australian open claims mentality professional tennis players slowly began change new millennium seems pretty friendly right said davenport think really nice environment great atmosphere especially veteran players helping younger players pleasant atmosphere say around locker rooms felt like best weeks get know players playing fed cup weeks olympic weeks necessarily tournaments even though maybe smaller teams still think kept quite bit always really feel like mid years huge shift attitudes top players friendly giving lot players like roger coming felt like really kind changed people little bit definitely lot quiet started become better meanwhile federer hoping improve service game hunts ninth swiss indoors title week serve well first round opponent filip kranjovic federer said think misfiring corners hitting lines enough clearly make life difficult still break points things could ended quickly today even though best serve percentage stats maybe exactly caught eventually getting used first rounds tricky',\n",
       " 'nadal played tennis since forced retire us open semi finals juan martin del porto knee injury world forced miss spain davis cup clash france asian hard court season atp world tour finals due begin next month nadal ready prove fitness season ending event arena nadal flew paris friday footage paris masters official twitter account shows spaniard smiling strides onto court practice paris masters draw made nadal start campaign tuesday wednesday either fernando verdasco jeremy chardy nadal could play defending champion jack sock third round potential quarter final either borna coric dominic thiem nadal appearance paris big boost tournament organisers could see roger federer withdraw federer action swiss indoors basel reaches final could pull paris bid stay fresh london stands federer draw scheduled face either former world milos raonic jo wilfried tsonga second round federer projected route paris final could also lead matches kevin anderson novak djokovic djokovic could play marco cecchinato second round british kyle edmund th seed paris get underway round two either karen khachanov filip krajinovic',\n",
       " 'tennis giveth tennis taketh away end season finally sight many players defending losing huge chunks points singapore zhuhai london podcast co hosts nina pantic irina falconi discuss art defending points secret jack sock struggled singles court year record could lose points next weeks instead focusing negative perspective let also forget two grand slam doubles triumphs season two players stefanos tsitsipas kyle edmund first career atp titles last week big deal never forget first irina looks back wta title win bogota tells unforgettable story semifinal drama singapore one biggest storylines aside matches course court coaching debate nina irina give opinions coaching look like future tours',\n",
       " 'played golf last week todd reid picked half hour early sleep slept specific bender anything days past former wimbledon junior champion full hope excited getting life back together troubled years touch go battle pancreatitis pleased said grinding eight par front nine royal northbridge club sydney smashing egg bacon roll halfway house players rare sporting gifts modest return would unacceptable reid marker em enough bogeys one well made par broomstick putter vindication recent decision renew membership nearby bankstown exhausted spending half round deep bushes searching ball well two golfers never met incredibly giving designated driver asked mind going straight home signing could rest little heading work fourteen years sharing centre court roger federer third round australian open reid running counter coaching kids sadly never mine suburban sydney matraville tennis squash centre run father bob beautiful mother sandra herselfa former professional quite fall grace prodigious talent afforded word spread new york times sponsors world feet reid mentored nick bollettieri fashioned likes andre agassi maria sharapova monica seles jim courier world reid earmarked top injuries illness cruel career taking salvation bottle reid found dead tuesday aged never got happened told aap last week senior career got legs reid derailed debilitating bout glandular fever life changing setback hit weeks teenage wonder boy announced arrival grand slam threat throwing rod laver arena fighting five set second round win sargis sargsian epic victory set showdown federer would go win first australian open golden boy said relationship tennis australia even give tickets open davis cup pick cusp world reid complaints lingering sense might backed last showingat melbourne park string wins elites including french open champion world gaston gaudio roland garros runner martin verkerk illness struck nice trajectorythen reid recalled got sick think could started pushing towards second week slams knows duringa comeback attempt five years later reid added bernard tomic us open federer slayer john millman list career scalps one best backhands think going around millman told aap fondest memory probably coming back spain father todd trying order ham cheese tomato sandwich aussie english ever heard among lesser known achievements even significantto injured reid effort reach final manly seaside prestigious christmas time event backin day likes legends rod laver ken rosewall frank sedgman john bromwich lew hoad neal fraser fred stolle evonne goolagong australia last women australian open champion christine neil hampered shoulder injury reid served arm arm throughout entire tournament yet still made decider always happy work hard said hoped mercurial nick kyrgios would big fan believer enigmatic canberran reid want see kyrgios career slip away like full effort fail reid said kyrgios full effort nick could live tennis like tomas berdych jo wilfried tsonga consistently making second week quarters semis finals slams hopefully time tell nick still young todd reid still young tragically time ran']"
      ]
     },
     "execution_count": 12,
     "metadata": {},
     "output_type": "execute_result"
    }
   ],
   "source": [
    "clean_sentences"
   ]
  },
  {
   "cell_type": "code",
   "execution_count": 13,
   "id": "4d30cf6a",
   "metadata": {},
   "outputs": [],
   "source": [
    "#we will create vectors for our sentences. each words in a sentence as a vector size of 100 elements. we will take the mean of those vectors to come to a consolidated vector for the sentence \n",
    "sentence_vectors = []\n",
    "for i in clean_sentences: \n",
    "    if len(i) != 0:\n",
    "        v = sum([word_embeddings.get(w, np.zeros((100,))) for w in i.split()])/(len(i.split())+0.001) #100  \n",
    "    else:\n",
    "        v = np.zeros((100,))\n",
    "    sentence_vectors.append(v)"
   ]
  },
  {
   "cell_type": "code",
   "execution_count": 14,
   "id": "4d4c9e83",
   "metadata": {},
   "outputs": [
    {
     "data": {
      "text/plain": [
       "[array([ 0.00483909,  0.28544757,  0.42578188, -0.0922095 , -0.17029235,\n",
       "         0.2513602 , -0.07538531,  0.16931818, -0.09813195, -0.14324999,\n",
       "         0.1356024 , -0.05566843,  0.19561599, -0.00907872, -0.11904312,\n",
       "        -0.15082781, -0.02610032,  0.23232764, -0.36464164,  0.37236184,\n",
       "         0.14870016,  0.22674483,  0.09170502, -0.06452769,  0.09085543,\n",
       "        -0.09743623, -0.06819598, -0.58882797,  0.27535385,  0.02007891,\n",
       "        -0.19707477,  0.4776674 ,  0.0392753 , -0.16300361,  0.25556332,\n",
       "         0.09693789, -0.2571401 ,  0.25395647, -0.13058247, -0.1783668 ,\n",
       "        -0.26708218, -0.20551905,  0.20955761, -0.3373452 , -0.14459155,\n",
       "        -0.08284358,  0.06940231, -0.11812706,  0.07247393, -0.72735333,\n",
       "         0.02643214, -0.18338543,  0.02643522,  0.769736  ,  0.04523619,\n",
       "        -1.9630214 ,  0.01066783,  0.06949498,  1.1767952 ,  0.5375171 ,\n",
       "        -0.15733175,  0.7271858 , -0.22895402, -0.00910158,  0.45067054,\n",
       "        -0.02839184,  0.3791105 ,  0.30643913,  0.02940007, -0.07150199,\n",
       "         0.08919804, -0.18737721,  0.01220844, -0.30903986,  0.15192579,\n",
       "         0.16730188,  0.12153597, -0.13801637, -0.38512415,  0.03430838,\n",
       "         0.53436565, -0.05219566, -0.3079251 , -0.04676937, -1.2528123 ,\n",
       "        -0.30725124, -0.29194552,  0.04416148, -0.22947259, -0.2619184 ,\n",
       "        -0.09811541, -0.06725993,  0.05490169, -0.07530086, -0.33423048,\n",
       "         0.07960166, -0.3330911 , -0.08383557,  0.39462864,  0.37815782],\n",
       "       dtype=float32),\n",
       " array([ 0.02633713,  0.01145005,  0.4414692 ,  0.0952279 ,  0.15504557,\n",
       "         0.16769396,  0.2709385 ,  0.14568837, -0.40688655, -0.01688772,\n",
       "         0.19698377,  0.05131671, -0.15546016,  0.01270458, -0.0265798 ,\n",
       "         0.01714427, -0.00462251,  0.06290729, -0.34588113,  0.05715558,\n",
       "         0.2873388 ,  0.01894839,  0.18846875,  0.6330627 ,  0.4404367 ,\n",
       "        -0.2635927 ,  0.02097348, -0.29228112,  0.39301383, -0.19242583,\n",
       "        -0.4872057 ,  0.20176946,  0.10126264, -0.10450254,  0.20913437,\n",
       "        -0.06595153, -0.41537753,  0.11551058, -0.2717028 ,  0.10671358,\n",
       "        -0.09058814, -0.3037266 ,  0.28998882, -0.12663934,  0.16090252,\n",
       "        -0.15396881,  0.17356126, -0.30317792,  0.17981733, -0.42947397,\n",
       "        -0.06595404, -0.12820324, -0.01340338,  0.67673373, -0.02277976,\n",
       "        -1.6754488 , -0.07669432,  0.12887411,  0.84430796,  0.5729585 ,\n",
       "        -0.24660295,  0.15324692, -0.24304324,  0.19293173,  0.20062666,\n",
       "        -0.06970596,  0.02364613,  0.38966635, -0.14997451, -0.10129817,\n",
       "        -0.12016256,  0.01501475, -0.00677543, -0.19937705,  0.0507757 ,\n",
       "         0.12513655, -0.20443879, -0.2510375 , -0.25765625,  0.02672409,\n",
       "         0.66600734,  0.00821462, -0.48094523,  0.03165986, -0.8970507 ,\n",
       "        -0.33699045, -0.22021031,  0.19732873,  0.01868526, -0.00663418,\n",
       "        -0.13042155,  0.03259109,  0.00373434,  0.3351787 , -0.44740152,\n",
       "        -0.07859552, -0.04834288,  0.08354889,  0.10623986,  0.0433915 ],\n",
       "       dtype=float32),\n",
       " array([-0.00672323,  0.11760612,  0.32319552, -0.09452244,  0.04162444,\n",
       "         0.02930271,  0.04026618,  0.24752362, -0.30965364, -0.059814  ,\n",
       "         0.13127851, -0.02808122,  0.05874159, -0.04650824, -0.07480597,\n",
       "        -0.11258706,  0.06681842,  0.14575037, -0.33896944,  0.14613935,\n",
       "         0.16813907,  0.02623082,  0.14155373,  0.2825191 ,  0.23228766,\n",
       "        -0.20474832,  0.03643164, -0.43074083,  0.27032948, -0.03691309,\n",
       "        -0.3041174 ,  0.279108  , -0.13078274, -0.14093877,  0.18964168,\n",
       "         0.10726166, -0.19403212,  0.28615093, -0.37216705, -0.07041058,\n",
       "        -0.26026118, -0.25347257,  0.27306575, -0.2010758 ,  0.08491072,\n",
       "        -0.07737683,  0.1521306 , -0.32997373,  0.01756825, -0.5798644 ,\n",
       "        -0.06934246, -0.14183682,  0.15189387,  0.7114827 , -0.04755981,\n",
       "        -1.9363467 , -0.17073861,  0.07264398,  1.1254168 ,  0.5437182 ,\n",
       "        -0.20193657,  0.47036335, -0.23646559,  0.05965787,  0.4213542 ,\n",
       "        -0.09843375, -0.00796075,  0.42621717, -0.00353481, -0.16407669,\n",
       "         0.07018394, -0.14776137, -0.18060283, -0.24220656,  0.03006422,\n",
       "         0.09750613, -0.01383546, -0.09519569, -0.6152619 , -0.01237334,\n",
       "         0.65582794, -0.15409003, -0.3280846 ,  0.07396463, -0.93849516,\n",
       "        -0.21020874, -0.16237675,  0.09055687, -0.07353687, -0.13744329,\n",
       "        -0.11528722,  0.04544608, -0.0564553 ,  0.10436893, -0.36714542,\n",
       "         0.10451759, -0.15538356,  0.03706153,  0.3212298 ,  0.11208227],\n",
       "       dtype=float32),\n",
       " array([ 0.04011829,  0.01534272,  0.51818013, -0.02024587,  0.22319889,\n",
       "         0.07106158,  0.26508832,  0.32453632, -0.42622364, -0.06804381,\n",
       "         0.24369976,  0.01141582, -0.13087972,  0.03909905,  0.02974581,\n",
       "        -0.04372478,  0.01541107,  0.17523985, -0.33359662,  0.06303106,\n",
       "         0.4608203 ,  0.03566026,  0.31099343,  0.5272589 ,  0.46470886,\n",
       "        -0.22370262,  0.03033329, -0.44904456,  0.360706  , -0.13740982,\n",
       "        -0.4828111 ,  0.23013307,  0.07817572, -0.04835737,  0.09817613,\n",
       "        -0.12369769, -0.36668044,  0.25649664, -0.29853234,  0.10080306,\n",
       "        -0.17357065, -0.32232532,  0.31356606, -0.2147288 ,  0.19063877,\n",
       "        -0.06774148,  0.24085741, -0.3450476 ,  0.18321064, -0.51698714,\n",
       "        -0.23332581, -0.19509004,  0.0308793 ,  0.66868883, -0.01894867,\n",
       "        -2.0180602 , -0.21300092,  0.04461325,  1.0444193 ,  0.6694368 ,\n",
       "        -0.39921686,  0.27782345, -0.17790255,  0.16332462,  0.35209194,\n",
       "        -0.10402874,  0.06007797,  0.45132455, -0.07523356, -0.08325157,\n",
       "        -0.0789081 ,  0.04489982, -0.23820221, -0.21370763, -0.00472815,\n",
       "         0.10875996, -0.2538928 , -0.16062562, -0.4641188 , -0.06368078,\n",
       "         0.48210642,  0.0637638 , -0.43657055,  0.03244162, -0.82384443,\n",
       "        -0.27039653, -0.15636799,  0.1336484 ,  0.10043221,  0.01438533,\n",
       "        -0.17612028,  0.03680195, -0.0265077 ,  0.25741482, -0.44786018,\n",
       "         0.05147594, -0.0570507 ,  0.10045799,  0.2194414 , -0.05589988],\n",
       "       dtype=float32),\n",
       " array([-1.15189866e-02,  2.22849981e-01,  4.20432973e-01, -1.28925618e-01,\n",
       "        -9.48047789e-02,  1.28681313e-01,  5.60397575e-02,  1.05421673e-01,\n",
       "        -2.47665742e-01, -1.78816424e-01,  1.15957010e-01, -4.69370090e-02,\n",
       "         8.84168680e-02, -4.85625600e-02, -4.88991398e-02, -1.50779167e-01,\n",
       "        -8.59892468e-02,  1.54563689e-01, -2.88772989e-01,  2.39564959e-01,\n",
       "         2.57123455e-01,  2.24496565e-01,  8.98524554e-02,  4.47588549e-02,\n",
       "         2.26437249e-01, -1.48682530e-01, -9.75978079e-02, -5.19769507e-01,\n",
       "         1.99129418e-01, -1.30798044e-01, -2.65505381e-01,  3.41920933e-01,\n",
       "        -1.48821431e-02, -1.24098922e-01,  2.11323777e-01,  6.27804926e-02,\n",
       "        -2.99512510e-01,  1.95140254e-01, -1.93578960e-01, -1.06462919e-01,\n",
       "        -1.92771447e-01, -2.70574365e-01,  2.27280610e-01, -2.40253851e-01,\n",
       "        -3.59797704e-02, -9.23831649e-02,  2.33492002e-01, -2.03876311e-01,\n",
       "         1.59106826e-01, -8.03621759e-01, -3.19187803e-02, -2.38385218e-01,\n",
       "         2.26171489e-02,  7.88148786e-01,  1.18715018e-02, -2.00378555e+00,\n",
       "        -7.23979913e-02,  8.40935273e-02,  1.11919672e+00,  5.38454897e-01,\n",
       "        -2.48043592e-01,  6.23186108e-01, -2.98995917e-01,  1.05226893e-01,\n",
       "         4.52688306e-01,  4.68217661e-03,  2.77627966e-01,  2.32542900e-01,\n",
       "        -6.90296208e-04, -1.47653868e-01,  4.21973779e-02, -1.51052010e-01,\n",
       "        -1.14587273e-01, -2.33488731e-01,  8.43691921e-02,  1.07015017e-01,\n",
       "        -5.70421352e-02, -1.26820299e-01, -4.07224201e-01,  2.03692208e-02,\n",
       "         5.34113885e-01, -4.26585767e-02, -4.47289877e-01,  5.09188753e-02,\n",
       "        -1.10751147e+00, -2.50068223e-01, -1.26476815e-01,  8.17660932e-03,\n",
       "        -2.30412182e-01, -1.69836681e-01, -7.42562353e-02, -1.90016451e-02,\n",
       "        -6.46009764e-02,  6.66125854e-02, -4.10817718e-01,  3.64631122e-02,\n",
       "        -1.96818157e-01, -6.92068050e-03,  3.18395370e-01,  2.66269585e-01]),\n",
       " array([ 4.42061807e-03,  1.59924668e-02,  3.26390992e-01, -3.59146222e-02,\n",
       "         1.06761344e-01,  1.25527195e-01,  1.56113296e-01,  2.93268708e-01,\n",
       "        -2.75002934e-01, -1.61380520e-01,  1.55422831e-01,  5.95210792e-02,\n",
       "        -7.33938083e-02,  3.73728792e-02, -7.85687245e-02,  1.44714100e-02,\n",
       "        -2.88391919e-02,  1.68148055e-01, -2.61996263e-01,  1.35030766e-01,\n",
       "         2.23027710e-01,  6.48957460e-03,  1.91350825e-01,  4.75717034e-01,\n",
       "         3.59739086e-01, -1.88042541e-01,  1.47101825e-01, -5.47152454e-01,\n",
       "         3.94434635e-01, -1.50541108e-01, -5.19193005e-01,  1.04942055e-01,\n",
       "        -1.30624396e-02, -1.22684933e-01,  1.68881451e-01,  3.69795428e-02,\n",
       "        -2.62116383e-01,  2.26486628e-01, -3.67334247e-01,  7.67354207e-02,\n",
       "        -1.94370982e-01, -3.58214830e-01,  2.76874822e-01, -2.03070906e-01,\n",
       "         1.47186413e-01, -5.95726475e-02,  7.70095965e-02, -2.31796583e-01,\n",
       "         1.98179066e-01, -5.03649369e-01, -3.76612894e-02, -4.44132418e-02,\n",
       "         9.12972670e-02,  5.93437660e-01, -4.55589425e-02, -1.77088133e+00,\n",
       "        -1.72476218e-01,  1.57766903e-01,  8.28961524e-01,  5.88761213e-01,\n",
       "        -1.89336568e-01,  3.13067523e-01, -2.23268708e-01,  2.78606345e-02,\n",
       "         3.05400231e-01, -1.11870823e-01, -2.31385359e-02,  3.83415240e-01,\n",
       "        -1.80114313e-01, -1.29902358e-01, -1.29701019e-02, -1.15374766e-01,\n",
       "        -2.12289544e-01, -2.99643375e-01,  5.77467175e-02,  1.99690065e-02,\n",
       "         2.81928936e-02, -7.01619006e-02, -3.42125649e-01,  9.42804988e-02,\n",
       "         6.03526008e-01, -1.54280898e-01, -4.43469174e-01,  8.55794646e-02,\n",
       "        -8.14055150e-01, -3.55159480e-01, -2.62296500e-01,  2.74707430e-01,\n",
       "        -4.79271562e-02, -6.33572480e-02, -1.28209313e-01, -4.93814541e-04,\n",
       "         1.58900339e-02,  2.78504592e-01, -2.39287899e-01,  8.66273337e-02,\n",
       "        -2.25389174e-03,  3.49174084e-02,  2.28312784e-01,  7.23309545e-03]),\n",
       " array([ 0.06627595,  0.14495079,  0.4299264 , -0.12191166,  0.08406021,\n",
       "         0.05589311, -0.02654837,  0.1802697 , -0.21684605, -0.13081989,\n",
       "         0.22189236, -0.03030167, -0.02696239,  0.08568115, -0.15648698,\n",
       "        -0.02408761, -0.00386229,  0.12671287, -0.25273236,  0.24595618,\n",
       "         0.19450484,  0.05504465,  0.10733213,  0.25912026,  0.31572761,\n",
       "        -0.21130766,  0.06349201, -0.3863978 ,  0.21571986, -0.14957043,\n",
       "        -0.30271888,  0.24967099, -0.04616216, -0.03899775,  0.05092434,\n",
       "         0.09787202, -0.30886351,  0.22615892, -0.34341993, -0.02447883,\n",
       "        -0.1758843 , -0.23051731,  0.1533669 , -0.26184559, -0.01317114,\n",
       "         0.01646637,  0.07486171, -0.28349259,  0.18540734, -0.50031946,\n",
       "        -0.05321725, -0.18084124,  0.11627265,  0.70483628,  0.12148594,\n",
       "        -1.75662166, -0.06409242,  0.10703143,  0.88098804,  0.48621641,\n",
       "        -0.31471659,  0.48316197, -0.19771353,  0.03693961,  0.35257942,\n",
       "        -0.05002246,  0.16234688,  0.35283283, -0.08629391, -0.00982843,\n",
       "        -0.07940988, -0.03604859, -0.13230825, -0.18433131, -0.07096236,\n",
       "         0.10452024, -0.08676579, -0.12705728, -0.40285337,  0.02085058,\n",
       "         0.37729662, -0.01450778, -0.26229822,  0.08339533, -0.86443764,\n",
       "        -0.28254858, -0.28697678,  0.06182036, -0.03257404, -0.11149125,\n",
       "        -0.09548938,  0.06068803, -0.01973807,  0.09789969, -0.31317637,\n",
       "         0.02366685, -0.16784119,  0.00674106,  0.3108919 ,  0.20987701]),\n",
       " array([-0.01492861,  0.15055526,  0.28830043, -0.20580622, -0.00365861,\n",
       "         0.12141616,  0.05904872,  0.15596964, -0.22959139, -0.11330377,\n",
       "         0.11726732,  0.03499239,  0.02909362,  0.07729472, -0.0208849 ,\n",
       "        -0.11259187,  0.02292202,  0.10199309, -0.33715463,  0.19875894,\n",
       "         0.22097789,  0.10661175,  0.12141921,  0.07796628,  0.29576952,\n",
       "        -0.01899981, -0.05599606, -0.4606434 ,  0.19075235, -0.05384652,\n",
       "        -0.22794777,  0.24977246,  0.0615843 , -0.03864222,  0.09580907,\n",
       "         0.0685592 , -0.26564321,  0.20793104, -0.13734403,  0.01205147,\n",
       "        -0.27275719, -0.18092292,  0.2363818 , -0.18097564, -0.00727102,\n",
       "         0.00311716,  0.12496785, -0.22034698,  0.15205949, -0.49565644,\n",
       "        -0.04680167, -0.14929674,  0.0788426 ,  0.60697598,  0.02947473,\n",
       "        -1.70389799, -0.11776005,  0.08118217,  0.83868796,  0.48382229,\n",
       "        -0.08916558,  0.45506551, -0.16061729,  0.08762138,  0.33371291,\n",
       "        -0.10185818,  0.27419769,  0.33084751, -0.04835554, -0.09191345,\n",
       "        -0.01102272, -0.03882294, -0.17358045, -0.20403098,  0.07196831,\n",
       "         0.09972046, -0.04512279, -0.05990835, -0.39504882,  0.03703538,\n",
       "         0.41098733, -0.02516564, -0.19952657,  0.02471379, -0.82015045,\n",
       "        -0.25513664, -0.07924202,  0.05283906, -0.17107875, -0.11932126,\n",
       "        -0.03196491, -0.06042776, -0.0091529 ,  0.17336714, -0.34098547,\n",
       "         0.04861033, -0.11216256, -0.01616497,  0.2502558 ,  0.07597158])]"
      ]
     },
     "execution_count": 14,
     "metadata": {},
     "output_type": "execute_result"
    }
   ],
   "source": [
    "sentence_vectors"
   ]
  },
  {
   "cell_type": "code",
   "execution_count": 15,
   "id": "07a1e173",
   "metadata": {},
   "outputs": [],
   "source": [
    "#find similartities betwen the sentences using cosine similarity \n",
    "#similarity matrix \n",
    "sim_mat = np.zeros([len(sentences), len(sentences)]) #empty square matrix of zeros\n"
   ]
  },
  {
   "cell_type": "code",
   "execution_count": 16,
   "id": "bb81658b",
   "metadata": {},
   "outputs": [],
   "source": [
    "#use cosine similarity to compute the similarity between a pair of sentences \n",
    "from sklearn.metrics.pairwise import cosine_similarity "
   ]
  },
  {
   "cell_type": "code",
   "execution_count": 17,
   "id": "110cf35d",
   "metadata": {},
   "outputs": [],
   "source": [
    "#initialize the empty metrics with cosine similarity score\n",
    " \n",
    "for i in range(len(sentences)):\n",
    "  for j in range(len(sentences)):\n",
    "    if i != j:\n",
    "      sim_mat[i][j] = cosine_similarity(sentence_vectors[i].reshape(1,100), sentence_vectors[j].reshape(1,100))[0,0]"
   ]
  },
  {
   "cell_type": "code",
   "execution_count": 18,
   "id": "99c323f7",
   "metadata": {},
   "outputs": [],
   "source": [
    "#applying page rank algorithm, the nodes of the graph will represent sentences and the edges will represent the similarity scores between the sentences \n",
    "import networkx as nx"
   ]
  },
  {
   "cell_type": "code",
   "execution_count": 19,
   "id": "7682992e",
   "metadata": {},
   "outputs": [],
   "source": [
    "nx_graph = nx.from_numpy_array(sim_mat)\n",
    "scores = nx.pagerank(nx_graph)"
   ]
  },
  {
   "cell_type": "code",
   "execution_count": 20,
   "id": "509c2c29",
   "metadata": {},
   "outputs": [
    {
     "data": {
      "text/plain": [
       "{0: 0.1216317478725013,\n",
       " 1: 0.12243770946848995,\n",
       " 2: 0.12683679471176998,\n",
       " 3: 0.12448198395108506,\n",
       " 4: 0.12593658025062596,\n",
       " 5: 0.1251296501110371,\n",
       " 6: 0.1268850568792313,\n",
       " 7: 0.12666047675525943}"
      ]
     },
     "execution_count": 20,
     "metadata": {},
     "output_type": "execute_result"
    }
   ],
   "source": [
    "scores"
   ]
  },
  {
   "cell_type": "code",
   "execution_count": 21,
   "id": "cd47c2b6",
   "metadata": {},
   "outputs": [],
   "source": [
    "ranked_sentences = sorted(((scores[i],s) for i,s in enumerate(sentences)), reverse=True)"
   ]
  },
  {
   "cell_type": "code",
   "execution_count": 22,
   "id": "2f0649fd",
   "metadata": {},
   "outputs": [
    {
     "name": "stdout",
     "output_type": "stream",
     "text": [
      "Tennis giveth, and tennis taketh away. The end of the season is finally in sight, and with so many players defending—or losing—huge chunks of points in Singapore, Zhuhai and London, podcast co-hosts Nina Pantic and Irina Falconi discuss the art of defending points (02:14). It's no secret that Jack Sock has struggled on the singles court this year (his record is 7-19). He could lose 1,400 points in the next few weeks—but instead of focusing on the negative, it can all be about perspective (06:28). Let's also not forget his two Grand Slam doubles triumphs this season. Two players, Stefanos Tsitsipas and Kyle Edmund, won their first career ATP titles last week (13:26). It's a big deal because...you never forget your first. Irina looks back at her WTA title win in Bogota in 2016, and tells an unforgettable story about her semifinal drama (14:04). In Singapore, one of the biggest storylines (aside from the matches, of course) has been the on-court coaching debate. Nina and Irina give their opinions on what coaching should look like in the future, on both tours (18:55).\n",
      "Roger Federer has revealed that organisers of the re-launched and condensed Davis Cup gave him three days to decide if he would commit to the controversial competition. Speaking at the Swiss Indoors tournament where he will play in Sunday’s final against Romanian qualifier Marius Copil, the world number three said that given the impossibly short time frame to make a decision, he opted out of any commitment. “They only left me three days to decide,” Federer said. “I didn’t to have time to consult with all the people I had to consult. “I could not make a decision in that time, so I told them to do what they wanted.” The 20-time Grand Slam champion has voiced doubts about the wisdom of the one-week format to be introduced by organisers Kosmos, who have promised the International Tennis Federation up to $3 billion in prize money over the next quarter-century. The competition is set to feature 18 countries in the November 18-24 finals in Madrid next year, and will replace the classic home-and-away ties played four times per year for decades. Kosmos is headed by Barcelona footballer Gerard Pique, who is hoping fellow Spaniard Rafael Nadal will play in the upcoming event. Novak Djokovic has said he will give precedence to the ATP’s intended re-launch of the defunct World Team Cup in January 2020, at various Australian venues. Major players feel that a big event in late November combined with one in January before the Australian Open will mean too much tennis and too little rest. Federer said earlier this month in Shanghai in that his chances of playing the Davis Cup were all but non-existent. “I highly doubt it, of course. We’ll see what happens,” he said. “I don’t think this was designed for me, anyhow. This was designed for the future generation of players.” Argentina and Britain received wild cards to the new-look event, and will compete along with the four 2018 semi-finalists and the 12 teams who win qualifying rounds next February. “I don’t like being under that kind of pressure,” Federer said of the deadline Kosmos handed him.\n",
      "I PLAYED golf last week with Todd Reid. He picked me up at 5.30am, half an hour early because he couldn’t sleep. Or hadn’t slept, to be specific. Not because he’d been out on a bender or anything — those days were in the past. The former Wimbledon junior champion was full of hope, excited about getting his life back together after a troubled few years and a touch-and-go battle with pancreatitis. “I’m pleased with that,” he said after grinding out an eight-over-par front nine at the not-so-royal Northbridge club in Sydney and smashing down an egg- and-bacon roll at the halfway house. To most players of his rare sporting gifts, such a modest return would be unacceptable. To Reid the 15-marker, just being up and at ‘em was enough; a few bogeys and one well-made par — broomstick putter and all — vindication for his recent decision to renew his membership at nearby Bankstown. Exhausted after spending half his round deep in the bushes searching for my ball, as well as those of two other golfers he’d never met before, our incredibly giving designated driver asked if we didn’t mind going straight home after signing off so he could rest up a little before heading to work. Fourteen years after sharing centre court with Roger Federer in the third round of the Australian Open, Reid was now running the counter and coaching kids - but sadly now never mine- in suburban Sydney at the Matraville tennis and squash centre run by his father Bob and beautiful mother Sandra, herselfa former professional. Quite the fall from grace for a prodigious talent once afforded a 3000-word spread in The New York Times. With sponsors and the world at his feet, Reid was 14 then and being mentored by Nick Bollettieri, who fashioned the likes of Andre Agassi, Maria Sharapova, Monica Seles and Jim Courier into world No.1s. Reid, too, was earmarked for the very top, only for injuries and illness to cruel his career. On the up again after taking salvation in the bottle, Reid was found dead on Tuesday aged just 34. “I never got over what happened to me when I was 19,” he told AAP last week. Just as his senior career got legs, Reid was derailed by a debilitating bout of glandular fever. The life-changing setback hit only weeks after the then-teenage wonder boy announced his arrival as a grand slam threat by throwing up all over Rod Laver Arena during a fighting five-set second-round win over Sargis Sargsian. The epic victory set-up his showdown with Federer, who would go on to win his first Australian Open. “I was their golden boy then,” he said of his relationship with Tennis Australia. “Now they won’t even give me tickets (to the Open).” A Davis Cup pick and on the cusp of the world’s 100 by 18, Reid had few other complaints - just a lingering sense of what might have been. He’d backed up his last-32 showingat Melbourne Park with a string of wins over elites including French Open champion and then world No.9 Gaston Gaudio and Roland Garros runner-up Martin Verkerk in 2004 before illness struck. “I was on a nice trajectorythen,” Reid recalled.“If I hadn’t got sick, I think I could have started pushing towards the second week at the slams and then who knows.” Duringa comeback attempt some five years later, Reid added Bernard Tomic and 2018 US Open Federer slayer John Millman to his list of career scalps. “He had one of the best backhands, I think, going around,” Millman told AAP. “But my fondest memory is probably him coming back in Spain with his father and Todd trying to order a ham, cheese and tomato sandwich in the most Aussie English I ever heard.” Among his lesser known achievements - but even more significantto me - was an injured Reid’s effort to reach the final of the Manly Seaside, a prestigious Christmas-time event won backin the day by the likes of legends Rod Laver, Ken Rosewall, Frank Sedgman, John Bromwich, Lew Hoad, Neal Fraser, Fred Stolle, Evonne Goolagong and Australia’s last women’s Australian Open champion, Christine O’Neil. Hampered by a shoulder injury, Reid served under-arm - UNDER-ARM - throughout the entire tournament yet still made the decider. “I was always happy to work hard,” he said. He had hoped the mercurial Nick Kyrgios would do the same. A big fan and believer in the enigmatic Canberran, Reid didn’t want to see Kyrgios’s career slip away like his did. “Full effort he wouldn’t fail,” Reid said of Kyrgios. “Full effort Nick could live out his tennis like a (Tomas) Berdych or (Jo- Wilfried) Tsonga, consistently making second week,quarters, semis, finals of slams - and then hopefully more. “Time will tell for Nick, but he’s still young.” Todd Reid was still young, too. Tragically, his time ran out.\n",
      "Federer, 37, first broke through on tour over two decades ago and he has since gone on to enjoy a glittering career. The 20-time Grand Slam winner is chasing his 99th ATP title at the Swiss Indoors this week and he faces Jan-Lennard Struff in the second round on Thursday (6pm BST). Davenport enjoyed most of her success in the late 1990s and her third and final major tournament win came at the 2000 Australian Open. But she claims the mentality of professional tennis players slowly began to change after the new millennium. “It seems pretty friendly right now,” said Davenport. “I think there is a really nice environment and a great atmosphere, especially between some of the veteran players helping some of the younger players out. “It's a very pleasant atmosphere, I'd have to say, around the locker rooms. “I felt like the best weeks that I had to get to know players when I was playing were the Fed Cup weeks or the Olympic weeks, not necessarily during the tournaments. “And even though maybe we had smaller teams, I still think we kept to ourselves quite a bit. “Not always, but I really feel like in the mid-2000 years there was a huge shift of the attitudes of the top players and being more friendly and being more giving, and a lot of that had to do with players like Roger coming up. “I just felt like it really kind of changed where people were a little bit, definitely in the '90s, a lot more quiet, into themselves, and then it started to become better.” Meanwhile, Federer is hoping he can improve his service game as he hunts his ninth Swiss Indoors title this week. “I didn't serve very well [against first-round opponent Filip Kranjovic,” Federer said. “I think I was misfiring the corners, I was not hitting the lines enough. “Clearly you make your life more difficult, but still I was up 6-2, 3-1, break points, so things could have ended very quickly today, even though I didn't have the best serve percentage stats. “But maybe that's exactly what caught up to me eventually. It's just getting used to it. This is where the first rounds can be tricky.”\n",
      "Nadal has not played tennis since he was forced to retire from the US Open semi-finals against Juan Martin Del Porto with a knee injury. The world No 1 has been forced to miss Spain’s Davis Cup clash with France and the Asian hard court season. But with the ATP World Tour Finals due to begin next month, Nadal is ready to prove his fitness before the season-ending event at the 02 Arena. Nadal flew to Paris on Friday and footage from the Paris Masters official Twitter account shows the Spaniard smiling as he strides onto court for practice. The Paris Masters draw has been made and Nadal will start his campaign on Tuesday or Wednesday against either Fernando Verdasco or Jeremy Chardy. Nadal could then play defending champion Jack Sock in the third round before a potential quarter-final with either Borna Coric or Dominic Thiem. Nadal’s appearance in Paris is a big boost to the tournament organisers who could see Roger Federer withdraw. Federer is in action at the Swiss Indoors in Basel and if he reaches the final, he could pull out of Paris in a bid to stay fresh for London. But as it stands, Federer is in the draw and is scheduled to face either former world No 3 Milos Raonic or Jo-Wilfried Tsonga in the second round. Federer’s projected route to the Paris final could also lead to matches against Kevin Anderson and Novak Djokovic. Djokovic could play Marco Cecchinato in the second round. British No 1 Kyle Edmund is the 12th seed in Paris and will get underway in round two against either Karen Khachanov or Filip Krajinovic.\n",
      "Kei Nishikori will try to end his long losing streak in ATP finals and Kevin Anderson will go for his second title of the year at the Erste Bank Open on Sunday. The fifth-seeded Nishikori reached his third final of 2018 after beating Mikhail Kukushkin of Kazakhstan 6-4, 6-3 in the semifinals. A winner of 11 ATP events, Nishikori hasn't triumphed since winning in Memphis in February 2016. He has lost eight straight finals since. The second-seeded Anderson defeated Fernando Verdasco 6-3, 3-6, 6-4. Anderson has a shot at a fifth career title and second of the year after winning in New York in February. Nishikori leads Anderson 4-2 on career matchups, but the South African won their only previous meeting this year. With a victory on Sunday, Anderson will qualify for the ATP Finals. Currently in ninth place, Nishikori with a win could move to within 125 points of the cut for the eight-man event in London next month. Nishikori held serve throughout against Kukushkin, who came through qualifying. He used his first break point to close out the first set before going up 3-0 in the second and wrapping up the win on his first match point. Against Verdasco, Anderson hit nine of his 19 aces in the opening set. The Spaniard broke Anderson twice in the second but didn't get another chance on the South African's serve in the final set.\n",
      "BASEL, Switzerland (AP) — Roger Federer advanced to the 14th Swiss Indoors final of his career by beating seventh-seeded Daniil Medvedev 6-1, 6-4 on Saturday. Seeking a ninth title at his hometown event, and a 99th overall, Federer will play 93th-ranked Marius Copil on Sunday. Federer dominated the 20th-ranked Medvedev and had his first match-point chance to break serve again at 5-1. He then dropped his serve to love, and let another match point slip in Medvedev's next service game by netting a backhand. He clinched on his fourth chance when Medvedev netted from the baseline. Copil upset expectations of a Federer final against Alexander Zverev in a 6-3, 6-7 (6), 6-4 win over the fifth-ranked German in the earlier semifinal. The Romanian aims for a first title after arriving at Basel without a career win over a top-10 opponent. Copil has two after also beating No. 6 Marin Cilic in the second round. Copil fired 26 aces past Zverev and never dropped serve, clinching after 2 1/2 hours with a forehand volley winner to break Zverev for the second time in the semifinal. He came through two rounds of qualifying last weekend to reach the Basel main draw, including beating Zverev's older brother, Mischa. Federer had an easier time than in his only previous match against Medvedev, a three-setter at Shanghai two weeks ago.\n",
      "Maria Sharapova has basically no friends as tennis players on the WTA Tour. The Russian player has no problems in openly speaking about it and in a recent interview she said: 'I don't really hide any feelings too much. I think everyone knows this is my job here. When I'm on the courts or when I'm on the court playing, I'm a competitor and I want to beat every single person whether they're in the locker room or across the net. So I'm not the one to strike up a conversation about the weather and know that in the next few minutes I have to go and try to win a tennis match. I'm a pretty competitive girl. I say my hellos, but I'm not sending any players flowers as well. Uhm, I'm not really friendly or close to many players. I have not a lot of friends away from the courts.' When she said she is not really close to a lot of players, is that something strategic that she is doing? Is it different on the men's tour than the women's tour? 'No, not at all. I think just because you're in the same sport doesn't mean that you have to be friends with everyone just because you're categorized, you're a tennis player, so you're going to get along with tennis players. I think every person has different interests. I have friends that have completely different jobs and interests, and I've met them in very different parts of my life. I think everyone just thinks because we're tennis players we should be the greatest of friends. But ultimately tennis is just a very small part of what we do. There are so many other things that we're interested in, that we do.' ALSO READ: Maria Sharapova reveals how tennis keeps her motivated.\n"
     ]
    },
    {
     "ename": "IndexError",
     "evalue": "list index out of range",
     "output_type": "error",
     "traceback": [
      "\u001b[1;31m---------------------------------------------------------------------------\u001b[0m",
      "\u001b[1;31mIndexError\u001b[0m                                Traceback (most recent call last)",
      "\u001b[1;32m~\\AppData\\Local\\Temp\\ipykernel_14404\\3274456915.py\u001b[0m in \u001b[0;36m<module>\u001b[1;34m\u001b[0m\n\u001b[0;32m      1\u001b[0m \u001b[1;31m#Extract top 10 sentences as the summary\u001b[0m\u001b[1;33m\u001b[0m\u001b[1;33m\u001b[0m\u001b[0m\n\u001b[0;32m      2\u001b[0m \u001b[1;32mfor\u001b[0m \u001b[0mi\u001b[0m \u001b[1;32min\u001b[0m \u001b[0mrange\u001b[0m\u001b[1;33m(\u001b[0m\u001b[1;36m10\u001b[0m\u001b[1;33m)\u001b[0m\u001b[1;33m:\u001b[0m\u001b[1;33m\u001b[0m\u001b[1;33m\u001b[0m\u001b[0m\n\u001b[1;32m----> 3\u001b[1;33m     \u001b[0mprint\u001b[0m\u001b[1;33m(\u001b[0m\u001b[0mranked_sentences\u001b[0m\u001b[1;33m[\u001b[0m\u001b[0mi\u001b[0m\u001b[1;33m]\u001b[0m\u001b[1;33m[\u001b[0m\u001b[1;36m1\u001b[0m\u001b[1;33m]\u001b[0m\u001b[1;33m)\u001b[0m\u001b[1;33m\u001b[0m\u001b[1;33m\u001b[0m\u001b[0m\n\u001b[0m",
      "\u001b[1;31mIndexError\u001b[0m: list index out of range"
     ]
    }
   ],
   "source": [
    "#Extract top 10 sentences as the summary \n",
    "for i in range(10):\n",
    "    print(ranked_sentences[i][1])"
   ]
  },
  {
   "cell_type": "code",
   "execution_count": 25,
   "id": "72c6e0cf",
   "metadata": {},
   "outputs": [
    {
     "ename": "ValueError",
     "evalue": "n_components must be < n_features; got 100 >= 4",
     "output_type": "error",
     "traceback": [
      "\u001b[1;31m---------------------------------------------------------------------------\u001b[0m",
      "\u001b[1;31mValueError\u001b[0m                                Traceback (most recent call last)",
      "\u001b[1;32m~\\AppData\\Local\\Temp\\ipykernel_14404\\1420613187.py\u001b[0m in \u001b[0;36m<module>\u001b[1;34m\u001b[0m\n\u001b[0;32m     24\u001b[0m                             ('svd', svd_model)])\n\u001b[0;32m     25\u001b[0m \u001b[1;33m\u001b[0m\u001b[0m\n\u001b[1;32m---> 26\u001b[1;33m \u001b[0msvd_matrix\u001b[0m \u001b[1;33m=\u001b[0m \u001b[0msvd_transformer\u001b[0m\u001b[1;33m.\u001b[0m\u001b[0mfit_transform\u001b[0m\u001b[1;33m(\u001b[0m\u001b[0mdocuments\u001b[0m\u001b[1;33m)\u001b[0m\u001b[1;33m\u001b[0m\u001b[1;33m\u001b[0m\u001b[0m\n\u001b[0m\u001b[0;32m     27\u001b[0m \u001b[1;33m\u001b[0m\u001b[0m\n\u001b[0;32m     28\u001b[0m \u001b[1;31m# svd_matrix can later be used to compare documents, compare words, or compare queries with documents\u001b[0m\u001b[1;33m\u001b[0m\u001b[1;33m\u001b[0m\u001b[0m\n",
      "\u001b[1;32mC:\\ProgramData\\Anaconda3\\lib\\site-packages\\sklearn\\pipeline.py\u001b[0m in \u001b[0;36mfit_transform\u001b[1;34m(self, X, y, **fit_params)\u001b[0m\n\u001b[0;32m    432\u001b[0m             \u001b[0mfit_params_last_step\u001b[0m \u001b[1;33m=\u001b[0m \u001b[0mfit_params_steps\u001b[0m\u001b[1;33m[\u001b[0m\u001b[0mself\u001b[0m\u001b[1;33m.\u001b[0m\u001b[0msteps\u001b[0m\u001b[1;33m[\u001b[0m\u001b[1;33m-\u001b[0m\u001b[1;36m1\u001b[0m\u001b[1;33m]\u001b[0m\u001b[1;33m[\u001b[0m\u001b[1;36m0\u001b[0m\u001b[1;33m]\u001b[0m\u001b[1;33m]\u001b[0m\u001b[1;33m\u001b[0m\u001b[1;33m\u001b[0m\u001b[0m\n\u001b[0;32m    433\u001b[0m             \u001b[1;32mif\u001b[0m \u001b[0mhasattr\u001b[0m\u001b[1;33m(\u001b[0m\u001b[0mlast_step\u001b[0m\u001b[1;33m,\u001b[0m \u001b[1;34m\"fit_transform\"\u001b[0m\u001b[1;33m)\u001b[0m\u001b[1;33m:\u001b[0m\u001b[1;33m\u001b[0m\u001b[1;33m\u001b[0m\u001b[0m\n\u001b[1;32m--> 434\u001b[1;33m                 \u001b[1;32mreturn\u001b[0m \u001b[0mlast_step\u001b[0m\u001b[1;33m.\u001b[0m\u001b[0mfit_transform\u001b[0m\u001b[1;33m(\u001b[0m\u001b[0mXt\u001b[0m\u001b[1;33m,\u001b[0m \u001b[0my\u001b[0m\u001b[1;33m,\u001b[0m \u001b[1;33m**\u001b[0m\u001b[0mfit_params_last_step\u001b[0m\u001b[1;33m)\u001b[0m\u001b[1;33m\u001b[0m\u001b[1;33m\u001b[0m\u001b[0m\n\u001b[0m\u001b[0;32m    435\u001b[0m             \u001b[1;32melse\u001b[0m\u001b[1;33m:\u001b[0m\u001b[1;33m\u001b[0m\u001b[1;33m\u001b[0m\u001b[0m\n\u001b[0;32m    436\u001b[0m                 \u001b[1;32mreturn\u001b[0m \u001b[0mlast_step\u001b[0m\u001b[1;33m.\u001b[0m\u001b[0mfit\u001b[0m\u001b[1;33m(\u001b[0m\u001b[0mXt\u001b[0m\u001b[1;33m,\u001b[0m \u001b[0my\u001b[0m\u001b[1;33m,\u001b[0m \u001b[1;33m**\u001b[0m\u001b[0mfit_params_last_step\u001b[0m\u001b[1;33m)\u001b[0m\u001b[1;33m.\u001b[0m\u001b[0mtransform\u001b[0m\u001b[1;33m(\u001b[0m\u001b[0mXt\u001b[0m\u001b[1;33m)\u001b[0m\u001b[1;33m\u001b[0m\u001b[1;33m\u001b[0m\u001b[0m\n",
      "\u001b[1;32mC:\\ProgramData\\Anaconda3\\lib\\site-packages\\sklearn\\decomposition\\_truncated_svd.py\u001b[0m in \u001b[0;36mfit_transform\u001b[1;34m(self, X, y)\u001b[0m\n\u001b[0;32m    205\u001b[0m             \u001b[0mn_features\u001b[0m \u001b[1;33m=\u001b[0m \u001b[0mX\u001b[0m\u001b[1;33m.\u001b[0m\u001b[0mshape\u001b[0m\u001b[1;33m[\u001b[0m\u001b[1;36m1\u001b[0m\u001b[1;33m]\u001b[0m\u001b[1;33m\u001b[0m\u001b[1;33m\u001b[0m\u001b[0m\n\u001b[0;32m    206\u001b[0m             \u001b[1;32mif\u001b[0m \u001b[0mk\u001b[0m \u001b[1;33m>=\u001b[0m \u001b[0mn_features\u001b[0m\u001b[1;33m:\u001b[0m\u001b[1;33m\u001b[0m\u001b[1;33m\u001b[0m\u001b[0m\n\u001b[1;32m--> 207\u001b[1;33m                 raise ValueError(\n\u001b[0m\u001b[0;32m    208\u001b[0m                     \u001b[1;34m\"n_components must be < n_features; got %d >= %d\"\u001b[0m \u001b[1;33m%\u001b[0m \u001b[1;33m(\u001b[0m\u001b[0mk\u001b[0m\u001b[1;33m,\u001b[0m \u001b[0mn_features\u001b[0m\u001b[1;33m)\u001b[0m\u001b[1;33m\u001b[0m\u001b[1;33m\u001b[0m\u001b[0m\n\u001b[0;32m    209\u001b[0m                 )\n",
      "\u001b[1;31mValueError\u001b[0m: n_components must be < n_features; got 100 >= 4"
     ]
    }
   ],
   "source": [
    "#topic modelling with LSA\n",
    "\n",
    "from sklearn.feature_extraction.text import TfidfVectorizer\n",
    "from sklearn.decomposition import TruncatedSVD\n",
    "from sklearn.pipeline import Pipeline\n",
    "\n",
    "documents = [\"doc1.txt\", \"doc2.txt\", \"doc3.txt\"] \n",
    "  \n",
    "# raw documents to tf-idf matrix: \n",
    "\n",
    "vectorizer = TfidfVectorizer(stop_words='english', \n",
    "                             use_idf=True, \n",
    "                             smooth_idf=True)\n",
    "\n",
    "# SVD to reduce dimensionality: \n",
    "\n",
    "svd_model = TruncatedSVD(n_components=100,   # num dimensions\n",
    "                         algorithm='randomized',\n",
    "                         n_iter=10)\n",
    "\n",
    "# pipeline of tf-idf + SVD, fit to and applied to documents:\n",
    "\n",
    "svd_transformer = Pipeline([('tfidf', vectorizer), \n",
    "                            ('svd', svd_model)])\n",
    "\n",
    "svd_matrix = svd_transformer.fit_transform(documents)\n",
    "\n",
    "# svd_matrix can later be used to compare documents, compare words, or compare queries with documents\n"
   ]
  },
  {
   "cell_type": "code",
   "execution_count": null,
   "id": "d1f0a496-7a22-4fbb-ac9a-0b6804ed3984",
   "metadata": {},
   "outputs": [],
   "source": []
  }
 ],
 "metadata": {
  "kernelspec": {
   "display_name": "Python 3 (ipykernel)",
   "language": "python",
   "name": "python3"
  },
  "language_info": {
   "codemirror_mode": {
    "name": "ipython",
    "version": 3
   },
   "file_extension": ".py",
   "mimetype": "text/x-python",
   "name": "python",
   "nbconvert_exporter": "python",
   "pygments_lexer": "ipython3",
   "version": "3.9.13"
  }
 },
 "nbformat": 4,
 "nbformat_minor": 5
}
